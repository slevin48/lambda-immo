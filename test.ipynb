{
 "metadata": {
  "language_info": {
   "codemirror_mode": {
    "name": "ipython",
    "version": 3
   },
   "file_extension": ".py",
   "mimetype": "text/x-python",
   "name": "python",
   "nbconvert_exporter": "python",
   "pygments_lexer": "ipython3",
   "version": "3.8.2-final"
  },
  "orig_nbformat": 2,
  "kernelspec": {
   "name": "python3",
   "display_name": "Python 3.8.2 64-bit",
   "metadata": {
    "interpreter": {
     "hash": "31f2aee4e71d21fbe5cf8b01ff0e069b9275f58929596ceb00d14d90e3e16cd6"
    }
   }
  }
 },
 "nbformat": 4,
 "nbformat_minor": 2,
 "cells": [
  {
   "source": [
    "# Replicate the DVF API"
   ],
   "cell_type": "markdown",
   "metadata": {}
  },
  {
   "cell_type": "code",
   "execution_count": 1,
   "metadata": {},
   "outputs": [],
   "source": [
    "def dvf_commune(code_postal):\n",
    "    # dvf_commune(75114)\n",
    "    import urllib\n",
    "    import json    \n",
    "    try:\n",
    "        url = \"http://api.cquest.org/dvf?code_commune=\"+str(code_postal)\n",
    "        response = urllib.request.urlopen(url)\n",
    "        html = response.read()\n",
    "        json_data = json.loads(html)\n",
    "        \n",
    "    except urllib.error.URLError:\n",
    "        print(\"Erreur\")\n",
    "          \n",
    "    return json_data"
   ]
  },
  {
   "cell_type": "code",
   "execution_count": 2,
   "metadata": {},
   "outputs": [],
   "source": [
    "json_data = dvf_commune(75114)"
   ]
  },
  {
   "cell_type": "code",
   "execution_count": 4,
   "metadata": {
    "tags": []
   },
   "outputs": [
    {
     "output_type": "stream",
     "name": "stdout",
     "text": [
      "--2021-01-24 22:57:52--  https://raw.githubusercontent.com/slevin48/immo-search/main/data/75.csv?token=AC6XYQ73K4IWKQXRMV3ISA3ABXWXO\n",
      "Résolution de raw.githubusercontent.com (raw.githubusercontent.com)… 151.101.120.133\n",
      "Connexion à raw.githubusercontent.com (raw.githubusercontent.com)|151.101.120.133|:443… connecté.\n",
      "requête HTTP transmise, en attente de la réponse… 200 OK\n",
      "Taille : 4491328 (4,3M) [text/plain]\n",
      "Enregistre : «75.csv?token=AC6XYQ73K4IWKQXRMV3ISA3ABXWXO»\n",
      "\n",
      "75.csv?token=AC6XYQ 100%[===================>]   4,28M  2,45MB/s    ds 1,7s    \n",
      "\n",
      "2021-01-24 22:57:54 (2,45 MB/s) - «75.csv?token=AC6XYQ73K4IWKQXRMV3ISA3ABXWXO» enregistré [4491328/4491328]\n",
      "\n"
     ]
    }
   ],
   "source": [
    "!wget \"https://raw.githubusercontent.com/slevin48/immo-search/main/data/75.csv?token=AC6XYQ73K4IWKQXRMV3ISA3ABXWXO\""
   ]
  },
  {
   "cell_type": "code",
   "execution_count": 5,
   "metadata": {},
   "outputs": [
    {
     "output_type": "stream",
     "name": "stdout",
     "text": [
      "diigo-knowledge-graph\nmatlab2020b\nself-driving-dataset\nzappa-54ckqvw8t\nzappa-d5a55jhy6\nzappa-w6lpl9cl0\n"
     ]
    }
   ],
   "source": [
    "import boto3\n",
    "s3 = boto3.resource('s3')\n",
    "for bucket in s3.buckets.all():\n",
    "    print(bucket.name)"
   ]
  },
  {
   "cell_type": "code",
   "execution_count": 8,
   "metadata": {},
   "outputs": [
    {
     "output_type": "stream",
     "name": "stdout",
     "text": [
      "75.csv\n"
     ]
    }
   ],
   "source": [
    "s3 = boto3.resource('s3')\n",
    "b = s3.Bucket(\"zappa-54ckqvw8t\")\n",
    "for file in b.objects.all():\n",
    "    print(file.key)"
   ]
  },
  {
   "cell_type": "code",
   "execution_count": 16,
   "metadata": {},
   "outputs": [],
   "source": [
    "s3 = boto3.client('s3')\n",
    "bucket = \"zappa-54ckqvw8t\"\n",
    "filename = \"75.csv\"\n",
    "s3.download_file(bucket, filename,filename)"
   ]
  },
  {
   "cell_type": "code",
   "execution_count": 15,
   "metadata": {},
   "outputs": [
    {
     "output_type": "execute_result",
     "data": {
      "text/plain": [
       "['test.ipynb',\n",
       " '75.csv',\n",
       " '.vscode',\n",
       " '__pycache__',\n",
       " 'zappa_settings.json',\n",
       " 'env',\n",
       " '75114.json',\n",
       " 'app.py',\n",
       " '.gitignore',\n",
       " 'README.md',\n",
       " '.git',\n",
       " 'requirements.txt']"
      ]
     },
     "metadata": {},
     "execution_count": 15
    }
   ],
   "source": [
    "import os\n",
    "os.listdir()"
   ]
  },
  {
   "cell_type": "code",
   "execution_count": 7,
   "metadata": {},
   "outputs": [],
   "source": [
    "s3_client = boto3.client('s3')\n",
    "# s3_client.upload_file(file_name, bucket, object_name)\n",
    "s3_client.upload_file(\"75.csv\", \"zappa-54ckqvw8t\", \"75.csv\")"
   ]
  },
  {
   "cell_type": "code",
   "execution_count": 22,
   "metadata": {},
   "outputs": [
    {
     "output_type": "execute_result",
     "data": {
      "text/plain": [
       "{'ResponseMetadata': {'RequestId': 'ba3411c5-967c-47d6-a1ff-6997bfda0777',\n",
       "  'HTTPStatusCode': 200,\n",
       "  'HTTPHeaders': {'date': 'Sun, 24 Jan 2021 22:40:09 GMT',\n",
       "   'content-type': 'application/json',\n",
       "   'content-length': '1921',\n",
       "   'connection': 'keep-alive',\n",
       "   'x-amzn-requestid': 'ba3411c5-967c-47d6-a1ff-6997bfda0777'},\n",
       "  'RetryAttempts': 0},\n",
       " 'Functions': [{'FunctionName': 'lambda2-dev',\n",
       "   'FunctionArn': 'arn:aws:lambda:eu-west-3:884021060667:function:lambda2-dev',\n",
       "   'Runtime': 'python3.7',\n",
       "   'Role': 'arn:aws:iam::884021060667:role/lambda2-dev-ZappaLambdaExecutionRole',\n",
       "   'Handler': 'handler.lambda_handler',\n",
       "   'CodeSize': 6129845,\n",
       "   'Description': 'Zappa Deployment',\n",
       "   'Timeout': 30,\n",
       "   'MemorySize': 512,\n",
       "   'LastModified': '2021-01-07T22:18:38.280+0000',\n",
       "   'CodeSha256': 'w1dAAi5RAdSz6EZ3OOuVpy2lKnRYrcmYXLYsaf3SuVY=',\n",
       "   'Version': '$LATEST',\n",
       "   'Environment': {'Variables': {}},\n",
       "   'TracingConfig': {'Mode': 'PassThrough'},\n",
       "   'RevisionId': '05fd0007-c145-4934-9a67-67ed7490fff7',\n",
       "   'Layers': [],\n",
       "   'PackageType': 'Zip'},\n",
       "  {'FunctionName': 'lambda-immo-dev',\n",
       "   'FunctionArn': 'arn:aws:lambda:eu-west-3:884021060667:function:lambda-immo-dev',\n",
       "   'Runtime': 'python3.8',\n",
       "   'Role': 'arn:aws:iam::884021060667:role/lambda-immo-dev-ZappaLambdaExecutionRole',\n",
       "   'Handler': 'handler.lambda_handler',\n",
       "   'CodeSize': 6691365,\n",
       "   'Description': 'Zappa Deployment',\n",
       "   'Timeout': 30,\n",
       "   'MemorySize': 512,\n",
       "   'LastModified': '2021-01-24T22:32:46.019+0000',\n",
       "   'CodeSha256': 'eBIxhzg3V3Zzr3kVSiu62Nk4gqEpVhnUC9Je4lJKrDM=',\n",
       "   'Version': '$LATEST',\n",
       "   'Environment': {'Variables': {}},\n",
       "   'TracingConfig': {'Mode': 'PassThrough'},\n",
       "   'RevisionId': 'f0423772-04f1-49e6-be4d-bbd307ef3e9d',\n",
       "   'Layers': [],\n",
       "   'PackageType': 'Zip'}]}"
      ]
     },
     "metadata": {},
     "execution_count": 22
    }
   ],
   "source": [
    "client = boto3.client('lambda')\n",
    "client.list_functions()"
   ]
  },
  {
   "cell_type": "code",
   "execution_count": 15,
   "metadata": {},
   "outputs": [
    {
     "output_type": "execute_result",
     "data": {
      "text/plain": [
       "       id_mutation date_mutation  numero_disposition nature_mutation  \\\n",
       "0      2020-360697    2020-01-02                   1           Vente   \n",
       "1      2020-360698    2020-01-06                   1           Vente   \n",
       "2      2020-360698    2020-01-06                   1           Vente   \n",
       "3      2020-360699    2020-01-10                   1           Vente   \n",
       "4      2020-360700    2020-01-03                   1           Vente   \n",
       "...            ...           ...                 ...             ...   \n",
       "23493  2020-377318    2020-06-30                   1           Vente   \n",
       "23494  2020-377319    2020-06-26                   1           Vente   \n",
       "23495  2020-377320    2020-06-25                   1           Vente   \n",
       "23496  2020-377321    2020-06-23                   1           Vente   \n",
       "23497  2020-377322    2020-06-11                   1           Vente   \n",
       "\n",
       "       valeur_fonciere  adresse_numero adresse_suffixe     adresse_nom_voie  \\\n",
       "0             268800.0            14.0             NaN      RUE DE L ARCADE   \n",
       "1             878378.0             9.0             NaN   BD DE LA MADELEINE   \n",
       "2             878378.0             9.0             NaN   BD DE LA MADELEINE   \n",
       "3             680000.0            10.0             NaN  RUE DU BOURG L ABBE   \n",
       "4             852000.0            24.0             NaN     RUE DE SAINTONGE   \n",
       "...                ...             ...             ...                  ...   \n",
       "23493         520000.0            55.0             NaN       RUE MONTMARTRE   \n",
       "23494        1740000.0           104.0             NaN          RUE REAUMUR   \n",
       "23495         725000.0            16.0             NaN      RUE CHARLEMAGNE   \n",
       "23496         200000.0             7.0             NaN        RUE CHABANAIS   \n",
       "23497         433000.0             3.0             NaN     RUE SAINT-JOSEPH   \n",
       "\n",
       "      adresse_code_voie  code_postal  ...  \\\n",
       "0                  0411      75008.0  ...   \n",
       "1                  5888      75001.0  ...   \n",
       "2                  5888      75001.0  ...   \n",
       "3                  1200      75003.0  ...   \n",
       "4                  8716      75003.0  ...   \n",
       "...                 ...          ...  ...   \n",
       "23493              6513      75002.0  ...   \n",
       "23494              8073      75002.0  ...   \n",
       "23495              1797      75004.0  ...   \n",
       "23496              1669      75002.0  ...   \n",
       "23497              8659      75002.0  ...   \n",
       "\n",
       "                                     type_local surface_reelle_bati  \\\n",
       "0                                   Appartement                24.0   \n",
       "1                                   Appartement                66.0   \n",
       "2      Local industriel. commercial ou assimilé                43.0   \n",
       "3                                   Appartement                51.0   \n",
       "4                                   Appartement                19.0   \n",
       "...                                         ...                 ...   \n",
       "23493                               Appartement                47.0   \n",
       "23494                               Appartement               150.0   \n",
       "23495                               Appartement                48.0   \n",
       "23496                               Appartement                26.0   \n",
       "23497                               Appartement                33.0   \n",
       "\n",
       "       nombre_pieces_principales  code_nature_culture  nature_culture  \\\n",
       "0                            1.0                  NaN             NaN   \n",
       "1                            2.0                  NaN             NaN   \n",
       "2                            0.0                  NaN             NaN   \n",
       "3                            2.0                  NaN             NaN   \n",
       "4                            1.0                  NaN             NaN   \n",
       "...                          ...                  ...             ...   \n",
       "23493                        3.0                  NaN             NaN   \n",
       "23494                        5.0                  NaN             NaN   \n",
       "23495                        3.0                  NaN             NaN   \n",
       "23496                        1.0                  NaN             NaN   \n",
       "23497                        1.0                  NaN             NaN   \n",
       "\n",
       "      code_nature_culture_speciale  nature_culture_speciale  surface_terrain  \\\n",
       "0                              NaN                      NaN              NaN   \n",
       "1                              NaN                      NaN              NaN   \n",
       "2                              NaN                      NaN              NaN   \n",
       "3                              NaN                      NaN              NaN   \n",
       "4                              NaN                      NaN              NaN   \n",
       "...                            ...                      ...              ...   \n",
       "23493                          NaN                      NaN              NaN   \n",
       "23494                          NaN                      NaN              NaN   \n",
       "23495                          NaN                      NaN              NaN   \n",
       "23496                          NaN                      NaN              NaN   \n",
       "23497                          NaN                      NaN              NaN   \n",
       "\n",
       "      longitude   latitude  \n",
       "0      2.323937  48.871607  \n",
       "1      2.326882  48.869331  \n",
       "2      2.326882  48.869331  \n",
       "3      2.351965  48.864157  \n",
       "4      2.363196  48.862017  \n",
       "...         ...        ...  \n",
       "23493  2.344134  48.865842  \n",
       "23494  2.347903  48.867536  \n",
       "23495  2.359936  48.854633  \n",
       "23496  2.336652  48.867463  \n",
       "23497  2.345110  48.868196  \n",
       "\n",
       "[23498 rows x 40 columns]"
      ],
      "text/html": "<div>\n<style scoped>\n    .dataframe tbody tr th:only-of-type {\n        vertical-align: middle;\n    }\n\n    .dataframe tbody tr th {\n        vertical-align: top;\n    }\n\n    .dataframe thead th {\n        text-align: right;\n    }\n</style>\n<table border=\"1\" class=\"dataframe\">\n  <thead>\n    <tr style=\"text-align: right;\">\n      <th></th>\n      <th>id_mutation</th>\n      <th>date_mutation</th>\n      <th>numero_disposition</th>\n      <th>nature_mutation</th>\n      <th>valeur_fonciere</th>\n      <th>adresse_numero</th>\n      <th>adresse_suffixe</th>\n      <th>adresse_nom_voie</th>\n      <th>adresse_code_voie</th>\n      <th>code_postal</th>\n      <th>...</th>\n      <th>type_local</th>\n      <th>surface_reelle_bati</th>\n      <th>nombre_pieces_principales</th>\n      <th>code_nature_culture</th>\n      <th>nature_culture</th>\n      <th>code_nature_culture_speciale</th>\n      <th>nature_culture_speciale</th>\n      <th>surface_terrain</th>\n      <th>longitude</th>\n      <th>latitude</th>\n    </tr>\n  </thead>\n  <tbody>\n    <tr>\n      <th>0</th>\n      <td>2020-360697</td>\n      <td>2020-01-02</td>\n      <td>1</td>\n      <td>Vente</td>\n      <td>268800.0</td>\n      <td>14.0</td>\n      <td>NaN</td>\n      <td>RUE DE L ARCADE</td>\n      <td>0411</td>\n      <td>75008.0</td>\n      <td>...</td>\n      <td>Appartement</td>\n      <td>24.0</td>\n      <td>1.0</td>\n      <td>NaN</td>\n      <td>NaN</td>\n      <td>NaN</td>\n      <td>NaN</td>\n      <td>NaN</td>\n      <td>2.323937</td>\n      <td>48.871607</td>\n    </tr>\n    <tr>\n      <th>1</th>\n      <td>2020-360698</td>\n      <td>2020-01-06</td>\n      <td>1</td>\n      <td>Vente</td>\n      <td>878378.0</td>\n      <td>9.0</td>\n      <td>NaN</td>\n      <td>BD DE LA MADELEINE</td>\n      <td>5888</td>\n      <td>75001.0</td>\n      <td>...</td>\n      <td>Appartement</td>\n      <td>66.0</td>\n      <td>2.0</td>\n      <td>NaN</td>\n      <td>NaN</td>\n      <td>NaN</td>\n      <td>NaN</td>\n      <td>NaN</td>\n      <td>2.326882</td>\n      <td>48.869331</td>\n    </tr>\n    <tr>\n      <th>2</th>\n      <td>2020-360698</td>\n      <td>2020-01-06</td>\n      <td>1</td>\n      <td>Vente</td>\n      <td>878378.0</td>\n      <td>9.0</td>\n      <td>NaN</td>\n      <td>BD DE LA MADELEINE</td>\n      <td>5888</td>\n      <td>75001.0</td>\n      <td>...</td>\n      <td>Local industriel. commercial ou assimilé</td>\n      <td>43.0</td>\n      <td>0.0</td>\n      <td>NaN</td>\n      <td>NaN</td>\n      <td>NaN</td>\n      <td>NaN</td>\n      <td>NaN</td>\n      <td>2.326882</td>\n      <td>48.869331</td>\n    </tr>\n    <tr>\n      <th>3</th>\n      <td>2020-360699</td>\n      <td>2020-01-10</td>\n      <td>1</td>\n      <td>Vente</td>\n      <td>680000.0</td>\n      <td>10.0</td>\n      <td>NaN</td>\n      <td>RUE DU BOURG L ABBE</td>\n      <td>1200</td>\n      <td>75003.0</td>\n      <td>...</td>\n      <td>Appartement</td>\n      <td>51.0</td>\n      <td>2.0</td>\n      <td>NaN</td>\n      <td>NaN</td>\n      <td>NaN</td>\n      <td>NaN</td>\n      <td>NaN</td>\n      <td>2.351965</td>\n      <td>48.864157</td>\n    </tr>\n    <tr>\n      <th>4</th>\n      <td>2020-360700</td>\n      <td>2020-01-03</td>\n      <td>1</td>\n      <td>Vente</td>\n      <td>852000.0</td>\n      <td>24.0</td>\n      <td>NaN</td>\n      <td>RUE DE SAINTONGE</td>\n      <td>8716</td>\n      <td>75003.0</td>\n      <td>...</td>\n      <td>Appartement</td>\n      <td>19.0</td>\n      <td>1.0</td>\n      <td>NaN</td>\n      <td>NaN</td>\n      <td>NaN</td>\n      <td>NaN</td>\n      <td>NaN</td>\n      <td>2.363196</td>\n      <td>48.862017</td>\n    </tr>\n    <tr>\n      <th>...</th>\n      <td>...</td>\n      <td>...</td>\n      <td>...</td>\n      <td>...</td>\n      <td>...</td>\n      <td>...</td>\n      <td>...</td>\n      <td>...</td>\n      <td>...</td>\n      <td>...</td>\n      <td>...</td>\n      <td>...</td>\n      <td>...</td>\n      <td>...</td>\n      <td>...</td>\n      <td>...</td>\n      <td>...</td>\n      <td>...</td>\n      <td>...</td>\n      <td>...</td>\n      <td>...</td>\n    </tr>\n    <tr>\n      <th>23493</th>\n      <td>2020-377318</td>\n      <td>2020-06-30</td>\n      <td>1</td>\n      <td>Vente</td>\n      <td>520000.0</td>\n      <td>55.0</td>\n      <td>NaN</td>\n      <td>RUE MONTMARTRE</td>\n      <td>6513</td>\n      <td>75002.0</td>\n      <td>...</td>\n      <td>Appartement</td>\n      <td>47.0</td>\n      <td>3.0</td>\n      <td>NaN</td>\n      <td>NaN</td>\n      <td>NaN</td>\n      <td>NaN</td>\n      <td>NaN</td>\n      <td>2.344134</td>\n      <td>48.865842</td>\n    </tr>\n    <tr>\n      <th>23494</th>\n      <td>2020-377319</td>\n      <td>2020-06-26</td>\n      <td>1</td>\n      <td>Vente</td>\n      <td>1740000.0</td>\n      <td>104.0</td>\n      <td>NaN</td>\n      <td>RUE REAUMUR</td>\n      <td>8073</td>\n      <td>75002.0</td>\n      <td>...</td>\n      <td>Appartement</td>\n      <td>150.0</td>\n      <td>5.0</td>\n      <td>NaN</td>\n      <td>NaN</td>\n      <td>NaN</td>\n      <td>NaN</td>\n      <td>NaN</td>\n      <td>2.347903</td>\n      <td>48.867536</td>\n    </tr>\n    <tr>\n      <th>23495</th>\n      <td>2020-377320</td>\n      <td>2020-06-25</td>\n      <td>1</td>\n      <td>Vente</td>\n      <td>725000.0</td>\n      <td>16.0</td>\n      <td>NaN</td>\n      <td>RUE CHARLEMAGNE</td>\n      <td>1797</td>\n      <td>75004.0</td>\n      <td>...</td>\n      <td>Appartement</td>\n      <td>48.0</td>\n      <td>3.0</td>\n      <td>NaN</td>\n      <td>NaN</td>\n      <td>NaN</td>\n      <td>NaN</td>\n      <td>NaN</td>\n      <td>2.359936</td>\n      <td>48.854633</td>\n    </tr>\n    <tr>\n      <th>23496</th>\n      <td>2020-377321</td>\n      <td>2020-06-23</td>\n      <td>1</td>\n      <td>Vente</td>\n      <td>200000.0</td>\n      <td>7.0</td>\n      <td>NaN</td>\n      <td>RUE CHABANAIS</td>\n      <td>1669</td>\n      <td>75002.0</td>\n      <td>...</td>\n      <td>Appartement</td>\n      <td>26.0</td>\n      <td>1.0</td>\n      <td>NaN</td>\n      <td>NaN</td>\n      <td>NaN</td>\n      <td>NaN</td>\n      <td>NaN</td>\n      <td>2.336652</td>\n      <td>48.867463</td>\n    </tr>\n    <tr>\n      <th>23497</th>\n      <td>2020-377322</td>\n      <td>2020-06-11</td>\n      <td>1</td>\n      <td>Vente</td>\n      <td>433000.0</td>\n      <td>3.0</td>\n      <td>NaN</td>\n      <td>RUE SAINT-JOSEPH</td>\n      <td>8659</td>\n      <td>75002.0</td>\n      <td>...</td>\n      <td>Appartement</td>\n      <td>33.0</td>\n      <td>1.0</td>\n      <td>NaN</td>\n      <td>NaN</td>\n      <td>NaN</td>\n      <td>NaN</td>\n      <td>NaN</td>\n      <td>2.345110</td>\n      <td>48.868196</td>\n    </tr>\n  </tbody>\n</table>\n<p>23498 rows × 40 columns</p>\n</div>"
     },
     "metadata": {},
     "execution_count": 15
    }
   ],
   "source": [
    "import pandas as pd\n",
    "df = pd.read_csv(\"75.csv\")\n",
    "df"
   ]
  },
  {
   "cell_type": "code",
   "execution_count": 12,
   "metadata": {},
   "outputs": [],
   "source": [
    "# df.code_commune = df.code_commune.astype(int)"
   ]
  },
  {
   "cell_type": "code",
   "execution_count": 16,
   "metadata": {},
   "outputs": [
    {
     "output_type": "execute_result",
     "data": {
      "text/plain": [
       "       id_mutation date_mutation  numero_disposition nature_mutation  \\\n",
       "9969   2020-367489    2020-01-06                   1           Vente   \n",
       "9970   2020-367490    2020-01-08                   1           Vente   \n",
       "9971   2020-367491    2020-01-08                   1           Vente   \n",
       "9972   2020-367492    2020-01-10                   1           Vente   \n",
       "9973   2020-367493    2020-01-06                   1           Vente   \n",
       "...            ...           ...                 ...             ...   \n",
       "10872  2020-368179    2020-06-16                   1           Vente   \n",
       "10873  2020-368179    2020-06-16                   1           Vente   \n",
       "10874  2020-368180    2020-06-09                   1           Vente   \n",
       "10875  2020-368180    2020-06-09                   1           Vente   \n",
       "10876  2020-368181    2020-06-30                   1           Vente   \n",
       "\n",
       "       valeur_fonciere  adresse_numero adresse_suffixe    adresse_nom_voie  \\\n",
       "9969           95000.0            45.0             NaN         RUE BOULARD   \n",
       "9970          545000.0             9.0             NaN        RUE D ODESSA   \n",
       "9971          220000.0            26.0             NaN  RUE DE LA SABLIERE   \n",
       "9972          132500.0            33.0               B           AV REILLE   \n",
       "9973          590000.0            41.0             NaN         RUE JONQUOY   \n",
       "...                ...             ...             ...                 ...   \n",
       "10872         335500.0            17.0             NaN        RUE GASSENDI   \n",
       "10873         335500.0            17.0             NaN        RUE GASSENDI   \n",
       "10874         238925.0             7.0             NaN          RUE DECRES   \n",
       "10875         238925.0             7.0             NaN          RUE DECRES   \n",
       "10876         575000.0            74.0             NaN        RUE D ALESIA   \n",
       "\n",
       "      adresse_code_voie  code_postal  ...  \\\n",
       "9969               1158      75014.0  ...   \n",
       "9970               6875      75014.0  ...   \n",
       "9971               8446      75014.0  ...   \n",
       "9972               8105      75014.0  ...   \n",
       "9973               5000      75014.0  ...   \n",
       "...                 ...          ...  ...   \n",
       "10872              3967      75014.0  ...   \n",
       "10873              3967      75014.0  ...   \n",
       "10874              2639      75014.0  ...   \n",
       "10875              2639      75014.0  ...   \n",
       "10876              0143      75014.0  ...   \n",
       "\n",
       "                                     type_local surface_reelle_bati  \\\n",
       "9969                                Appartement                31.0   \n",
       "9970                                Appartement                43.0   \n",
       "9971                                Appartement                18.0   \n",
       "9972                                Appartement                25.0   \n",
       "9973                                Appartement                75.0   \n",
       "...                                         ...                 ...   \n",
       "10872                               Appartement                21.0   \n",
       "10873                               Appartement                10.0   \n",
       "10874  Local industriel. commercial ou assimilé                25.0   \n",
       "10875  Local industriel. commercial ou assimilé                12.0   \n",
       "10876                               Appartement                46.0   \n",
       "\n",
       "       nombre_pieces_principales  code_nature_culture  nature_culture  \\\n",
       "9969                         3.0                  NaN             NaN   \n",
       "9970                         3.0                  NaN             NaN   \n",
       "9971                         1.0                  NaN             NaN   \n",
       "9972                         1.0                  NaN             NaN   \n",
       "9973                         4.0                  NaN             NaN   \n",
       "...                          ...                  ...             ...   \n",
       "10872                        2.0                  NaN             NaN   \n",
       "10873                        1.0                  NaN             NaN   \n",
       "10874                        0.0                  NaN             NaN   \n",
       "10875                        0.0                  NaN             NaN   \n",
       "10876                        2.0                  NaN             NaN   \n",
       "\n",
       "      code_nature_culture_speciale  nature_culture_speciale  surface_terrain  \\\n",
       "9969                           NaN                      NaN              NaN   \n",
       "9970                           NaN                      NaN              NaN   \n",
       "9971                           NaN                      NaN              NaN   \n",
       "9972                           NaN                      NaN              NaN   \n",
       "9973                           NaN                      NaN              NaN   \n",
       "...                            ...                      ...              ...   \n",
       "10872                          NaN                      NaN              NaN   \n",
       "10873                          NaN                      NaN              NaN   \n",
       "10874                          NaN                      NaN              NaN   \n",
       "10875                          NaN                      NaN              NaN   \n",
       "10876                          NaN                      NaN              NaN   \n",
       "\n",
       "      longitude   latitude  \n",
       "9969   2.327889  48.832227  \n",
       "9970   2.324906  48.842674  \n",
       "9971   2.322940  48.832098  \n",
       "9972   2.334895  48.823750  \n",
       "9973   2.316237  48.829196  \n",
       "...         ...        ...  \n",
       "10872  2.327226  48.835148  \n",
       "10873  2.327226  48.835148  \n",
       "10874  2.315183  48.832915  \n",
       "10875  2.315183  48.832915  \n",
       "10876  2.325255  48.828590  \n",
       "\n",
       "[908 rows x 40 columns]"
      ],
      "text/html": "<div>\n<style scoped>\n    .dataframe tbody tr th:only-of-type {\n        vertical-align: middle;\n    }\n\n    .dataframe tbody tr th {\n        vertical-align: top;\n    }\n\n    .dataframe thead th {\n        text-align: right;\n    }\n</style>\n<table border=\"1\" class=\"dataframe\">\n  <thead>\n    <tr style=\"text-align: right;\">\n      <th></th>\n      <th>id_mutation</th>\n      <th>date_mutation</th>\n      <th>numero_disposition</th>\n      <th>nature_mutation</th>\n      <th>valeur_fonciere</th>\n      <th>adresse_numero</th>\n      <th>adresse_suffixe</th>\n      <th>adresse_nom_voie</th>\n      <th>adresse_code_voie</th>\n      <th>code_postal</th>\n      <th>...</th>\n      <th>type_local</th>\n      <th>surface_reelle_bati</th>\n      <th>nombre_pieces_principales</th>\n      <th>code_nature_culture</th>\n      <th>nature_culture</th>\n      <th>code_nature_culture_speciale</th>\n      <th>nature_culture_speciale</th>\n      <th>surface_terrain</th>\n      <th>longitude</th>\n      <th>latitude</th>\n    </tr>\n  </thead>\n  <tbody>\n    <tr>\n      <th>9969</th>\n      <td>2020-367489</td>\n      <td>2020-01-06</td>\n      <td>1</td>\n      <td>Vente</td>\n      <td>95000.0</td>\n      <td>45.0</td>\n      <td>NaN</td>\n      <td>RUE BOULARD</td>\n      <td>1158</td>\n      <td>75014.0</td>\n      <td>...</td>\n      <td>Appartement</td>\n      <td>31.0</td>\n      <td>3.0</td>\n      <td>NaN</td>\n      <td>NaN</td>\n      <td>NaN</td>\n      <td>NaN</td>\n      <td>NaN</td>\n      <td>2.327889</td>\n      <td>48.832227</td>\n    </tr>\n    <tr>\n      <th>9970</th>\n      <td>2020-367490</td>\n      <td>2020-01-08</td>\n      <td>1</td>\n      <td>Vente</td>\n      <td>545000.0</td>\n      <td>9.0</td>\n      <td>NaN</td>\n      <td>RUE D ODESSA</td>\n      <td>6875</td>\n      <td>75014.0</td>\n      <td>...</td>\n      <td>Appartement</td>\n      <td>43.0</td>\n      <td>3.0</td>\n      <td>NaN</td>\n      <td>NaN</td>\n      <td>NaN</td>\n      <td>NaN</td>\n      <td>NaN</td>\n      <td>2.324906</td>\n      <td>48.842674</td>\n    </tr>\n    <tr>\n      <th>9971</th>\n      <td>2020-367491</td>\n      <td>2020-01-08</td>\n      <td>1</td>\n      <td>Vente</td>\n      <td>220000.0</td>\n      <td>26.0</td>\n      <td>NaN</td>\n      <td>RUE DE LA SABLIERE</td>\n      <td>8446</td>\n      <td>75014.0</td>\n      <td>...</td>\n      <td>Appartement</td>\n      <td>18.0</td>\n      <td>1.0</td>\n      <td>NaN</td>\n      <td>NaN</td>\n      <td>NaN</td>\n      <td>NaN</td>\n      <td>NaN</td>\n      <td>2.322940</td>\n      <td>48.832098</td>\n    </tr>\n    <tr>\n      <th>9972</th>\n      <td>2020-367492</td>\n      <td>2020-01-10</td>\n      <td>1</td>\n      <td>Vente</td>\n      <td>132500.0</td>\n      <td>33.0</td>\n      <td>B</td>\n      <td>AV REILLE</td>\n      <td>8105</td>\n      <td>75014.0</td>\n      <td>...</td>\n      <td>Appartement</td>\n      <td>25.0</td>\n      <td>1.0</td>\n      <td>NaN</td>\n      <td>NaN</td>\n      <td>NaN</td>\n      <td>NaN</td>\n      <td>NaN</td>\n      <td>2.334895</td>\n      <td>48.823750</td>\n    </tr>\n    <tr>\n      <th>9973</th>\n      <td>2020-367493</td>\n      <td>2020-01-06</td>\n      <td>1</td>\n      <td>Vente</td>\n      <td>590000.0</td>\n      <td>41.0</td>\n      <td>NaN</td>\n      <td>RUE JONQUOY</td>\n      <td>5000</td>\n      <td>75014.0</td>\n      <td>...</td>\n      <td>Appartement</td>\n      <td>75.0</td>\n      <td>4.0</td>\n      <td>NaN</td>\n      <td>NaN</td>\n      <td>NaN</td>\n      <td>NaN</td>\n      <td>NaN</td>\n      <td>2.316237</td>\n      <td>48.829196</td>\n    </tr>\n    <tr>\n      <th>...</th>\n      <td>...</td>\n      <td>...</td>\n      <td>...</td>\n      <td>...</td>\n      <td>...</td>\n      <td>...</td>\n      <td>...</td>\n      <td>...</td>\n      <td>...</td>\n      <td>...</td>\n      <td>...</td>\n      <td>...</td>\n      <td>...</td>\n      <td>...</td>\n      <td>...</td>\n      <td>...</td>\n      <td>...</td>\n      <td>...</td>\n      <td>...</td>\n      <td>...</td>\n      <td>...</td>\n    </tr>\n    <tr>\n      <th>10872</th>\n      <td>2020-368179</td>\n      <td>2020-06-16</td>\n      <td>1</td>\n      <td>Vente</td>\n      <td>335500.0</td>\n      <td>17.0</td>\n      <td>NaN</td>\n      <td>RUE GASSENDI</td>\n      <td>3967</td>\n      <td>75014.0</td>\n      <td>...</td>\n      <td>Appartement</td>\n      <td>21.0</td>\n      <td>2.0</td>\n      <td>NaN</td>\n      <td>NaN</td>\n      <td>NaN</td>\n      <td>NaN</td>\n      <td>NaN</td>\n      <td>2.327226</td>\n      <td>48.835148</td>\n    </tr>\n    <tr>\n      <th>10873</th>\n      <td>2020-368179</td>\n      <td>2020-06-16</td>\n      <td>1</td>\n      <td>Vente</td>\n      <td>335500.0</td>\n      <td>17.0</td>\n      <td>NaN</td>\n      <td>RUE GASSENDI</td>\n      <td>3967</td>\n      <td>75014.0</td>\n      <td>...</td>\n      <td>Appartement</td>\n      <td>10.0</td>\n      <td>1.0</td>\n      <td>NaN</td>\n      <td>NaN</td>\n      <td>NaN</td>\n      <td>NaN</td>\n      <td>NaN</td>\n      <td>2.327226</td>\n      <td>48.835148</td>\n    </tr>\n    <tr>\n      <th>10874</th>\n      <td>2020-368180</td>\n      <td>2020-06-09</td>\n      <td>1</td>\n      <td>Vente</td>\n      <td>238925.0</td>\n      <td>7.0</td>\n      <td>NaN</td>\n      <td>RUE DECRES</td>\n      <td>2639</td>\n      <td>75014.0</td>\n      <td>...</td>\n      <td>Local industriel. commercial ou assimilé</td>\n      <td>25.0</td>\n      <td>0.0</td>\n      <td>NaN</td>\n      <td>NaN</td>\n      <td>NaN</td>\n      <td>NaN</td>\n      <td>NaN</td>\n      <td>2.315183</td>\n      <td>48.832915</td>\n    </tr>\n    <tr>\n      <th>10875</th>\n      <td>2020-368180</td>\n      <td>2020-06-09</td>\n      <td>1</td>\n      <td>Vente</td>\n      <td>238925.0</td>\n      <td>7.0</td>\n      <td>NaN</td>\n      <td>RUE DECRES</td>\n      <td>2639</td>\n      <td>75014.0</td>\n      <td>...</td>\n      <td>Local industriel. commercial ou assimilé</td>\n      <td>12.0</td>\n      <td>0.0</td>\n      <td>NaN</td>\n      <td>NaN</td>\n      <td>NaN</td>\n      <td>NaN</td>\n      <td>NaN</td>\n      <td>2.315183</td>\n      <td>48.832915</td>\n    </tr>\n    <tr>\n      <th>10876</th>\n      <td>2020-368181</td>\n      <td>2020-06-30</td>\n      <td>1</td>\n      <td>Vente</td>\n      <td>575000.0</td>\n      <td>74.0</td>\n      <td>NaN</td>\n      <td>RUE D ALESIA</td>\n      <td>0143</td>\n      <td>75014.0</td>\n      <td>...</td>\n      <td>Appartement</td>\n      <td>46.0</td>\n      <td>2.0</td>\n      <td>NaN</td>\n      <td>NaN</td>\n      <td>NaN</td>\n      <td>NaN</td>\n      <td>NaN</td>\n      <td>2.325255</td>\n      <td>48.828590</td>\n    </tr>\n  </tbody>\n</table>\n<p>908 rows × 40 columns</p>\n</div>"
     },
     "metadata": {},
     "execution_count": 16
    }
   ],
   "source": [
    "df[df.code_commune == 75114]"
   ]
  },
  {
   "cell_type": "code",
   "execution_count": 18,
   "metadata": {},
   "outputs": [],
   "source": [
    "df_dict = df.to_dict()"
   ]
  },
  {
   "source": [
    "## Test Flask\n",
    "\n",
    "`export FLASK_APP=app.py` \n",
    "\n",
    "`export FLASK_ENV=development`\n",
    "\n",
    "` flask run` \n",
    " "
   ],
   "cell_type": "markdown",
   "metadata": {}
  },
  {
   "cell_type": "code",
   "execution_count": null,
   "metadata": {},
   "outputs": [],
   "source": [
    "import requests as rq\n",
    "rq.get(\"http://127.0.0.1:5000/dvf?code_commune=75114\")"
   ]
  },
  {
   "cell_type": "code",
   "execution_count": 1,
   "metadata": {},
   "outputs": [],
   "source": [
    "code_commune = 75114\n",
    "import urllib\n",
    "import json    \n",
    "try:\n",
    "    url = \"http://127.0.0.1:5000/dvf?code_commune=\"+str(code_commune)\n",
    "    response = urllib.request.urlopen(url)\n",
    "    html = response.read()\n",
    "    json_data = json.loads(html)\n",
    "except urllib.error.URLError:\n",
    "        print(\"Erreur\")"
   ]
  },
  {
   "cell_type": "code",
   "execution_count": 2,
   "metadata": {},
   "outputs": [
    {
     "output_type": "execute_result",
     "data": {
      "text/plain": [
       "      adresse_code_voie    adresse_nom_voie  adresse_numero adresse_suffixe  \\\n",
       "9969               1158         RUE BOULARD            45.0             NaN   \n",
       "9970               6875        RUE D ODESSA             9.0             NaN   \n",
       "9971               8446  RUE DE LA SABLIERE            26.0             NaN   \n",
       "9972               8105           AV REILLE            33.0               B   \n",
       "9973               5000         RUE JONQUOY            41.0             NaN   \n",
       "...                 ...                 ...             ...             ...   \n",
       "10872              3967        RUE GASSENDI            17.0             NaN   \n",
       "10873              3967        RUE GASSENDI            17.0             NaN   \n",
       "10874              2639          RUE DECRES             7.0             NaN   \n",
       "10875              2639          RUE DECRES             7.0             NaN   \n",
       "10876              0143        RUE D ALESIA            74.0             NaN   \n",
       "\n",
       "       ancien_code_commune  ancien_id_parcelle  ancien_nom_commune  \\\n",
       "9969                   NaN                 NaN                 NaN   \n",
       "9970                   NaN                 NaN                 NaN   \n",
       "9971                   NaN                 NaN                 NaN   \n",
       "9972                   NaN                 NaN                 NaN   \n",
       "9973                   NaN                 NaN                 NaN   \n",
       "...                    ...                 ...                 ...   \n",
       "10872                  NaN                 NaN                 NaN   \n",
       "10873                  NaN                 NaN                 NaN   \n",
       "10874                  NaN                 NaN                 NaN   \n",
       "10875                  NaN                 NaN                 NaN   \n",
       "10876                  NaN                 NaN                 NaN   \n",
       "\n",
       "       code_commune  code_departement code_nature_culture  ...  \\\n",
       "9969          75114                75                 NaN  ...   \n",
       "9970          75114                75                 NaN  ...   \n",
       "9971          75114                75                 NaN  ...   \n",
       "9972          75114                75                 NaN  ...   \n",
       "9973          75114                75                 NaN  ...   \n",
       "...             ...               ...                 ...  ...   \n",
       "10872         75114                75                 NaN  ...   \n",
       "10873         75114                75                 NaN  ...   \n",
       "10874         75114                75                 NaN  ...   \n",
       "10875         75114                75                 NaN  ...   \n",
       "10876         75114                75                 NaN  ...   \n",
       "\n",
       "       nature_mutation               nom_commune  nombre_lots  \\\n",
       "9969             Vente  Paris 14e Arrondissement            1   \n",
       "9970             Vente  Paris 14e Arrondissement            1   \n",
       "9971             Vente  Paris 14e Arrondissement            2   \n",
       "9972             Vente  Paris 14e Arrondissement            1   \n",
       "9973             Vente  Paris 14e Arrondissement            2   \n",
       "...                ...                       ...          ...   \n",
       "10872            Vente  Paris 14e Arrondissement            2   \n",
       "10873            Vente  Paris 14e Arrondissement            1   \n",
       "10874            Vente  Paris 14e Arrondissement            1   \n",
       "10875            Vente  Paris 14e Arrondissement            1   \n",
       "10876            Vente  Paris 14e Arrondissement            1   \n",
       "\n",
       "      nombre_pieces_principales numero_disposition numero_volume  \\\n",
       "9969                        3.0                  1           NaN   \n",
       "9970                        3.0                  1           NaN   \n",
       "9971                        1.0                  1           NaN   \n",
       "9972                        1.0                  1           NaN   \n",
       "9973                        4.0                  1           NaN   \n",
       "...                         ...                ...           ...   \n",
       "10872                       2.0                  1           NaN   \n",
       "10873                       1.0                  1           NaN   \n",
       "10874                       0.0                  1           NaN   \n",
       "10875                       0.0                  1           NaN   \n",
       "10876                       2.0                  1           NaN   \n",
       "\n",
       "       surface_reelle_bati  surface_terrain  \\\n",
       "9969                  31.0              NaN   \n",
       "9970                  43.0              NaN   \n",
       "9971                  18.0              NaN   \n",
       "9972                  25.0              NaN   \n",
       "9973                  75.0              NaN   \n",
       "...                    ...              ...   \n",
       "10872                 21.0              NaN   \n",
       "10873                 10.0              NaN   \n",
       "10874                 25.0              NaN   \n",
       "10875                 12.0              NaN   \n",
       "10876                 46.0              NaN   \n",
       "\n",
       "                                     type_local  valeur_fonciere  \n",
       "9969                                Appartement          95000.0  \n",
       "9970                                Appartement         545000.0  \n",
       "9971                                Appartement         220000.0  \n",
       "9972                                Appartement         132500.0  \n",
       "9973                                Appartement         590000.0  \n",
       "...                                         ...              ...  \n",
       "10872                               Appartement         335500.0  \n",
       "10873                               Appartement         335500.0  \n",
       "10874  Local industriel. commercial ou assimilé         238925.0  \n",
       "10875  Local industriel. commercial ou assimilé         238925.0  \n",
       "10876                               Appartement         575000.0  \n",
       "\n",
       "[908 rows x 40 columns]"
      ],
      "text/html": "<div>\n<style scoped>\n    .dataframe tbody tr th:only-of-type {\n        vertical-align: middle;\n    }\n\n    .dataframe tbody tr th {\n        vertical-align: top;\n    }\n\n    .dataframe thead th {\n        text-align: right;\n    }\n</style>\n<table border=\"1\" class=\"dataframe\">\n  <thead>\n    <tr style=\"text-align: right;\">\n      <th></th>\n      <th>adresse_code_voie</th>\n      <th>adresse_nom_voie</th>\n      <th>adresse_numero</th>\n      <th>adresse_suffixe</th>\n      <th>ancien_code_commune</th>\n      <th>ancien_id_parcelle</th>\n      <th>ancien_nom_commune</th>\n      <th>code_commune</th>\n      <th>code_departement</th>\n      <th>code_nature_culture</th>\n      <th>...</th>\n      <th>nature_mutation</th>\n      <th>nom_commune</th>\n      <th>nombre_lots</th>\n      <th>nombre_pieces_principales</th>\n      <th>numero_disposition</th>\n      <th>numero_volume</th>\n      <th>surface_reelle_bati</th>\n      <th>surface_terrain</th>\n      <th>type_local</th>\n      <th>valeur_fonciere</th>\n    </tr>\n  </thead>\n  <tbody>\n    <tr>\n      <th>9969</th>\n      <td>1158</td>\n      <td>RUE BOULARD</td>\n      <td>45.0</td>\n      <td>NaN</td>\n      <td>NaN</td>\n      <td>NaN</td>\n      <td>NaN</td>\n      <td>75114</td>\n      <td>75</td>\n      <td>NaN</td>\n      <td>...</td>\n      <td>Vente</td>\n      <td>Paris 14e Arrondissement</td>\n      <td>1</td>\n      <td>3.0</td>\n      <td>1</td>\n      <td>NaN</td>\n      <td>31.0</td>\n      <td>NaN</td>\n      <td>Appartement</td>\n      <td>95000.0</td>\n    </tr>\n    <tr>\n      <th>9970</th>\n      <td>6875</td>\n      <td>RUE D ODESSA</td>\n      <td>9.0</td>\n      <td>NaN</td>\n      <td>NaN</td>\n      <td>NaN</td>\n      <td>NaN</td>\n      <td>75114</td>\n      <td>75</td>\n      <td>NaN</td>\n      <td>...</td>\n      <td>Vente</td>\n      <td>Paris 14e Arrondissement</td>\n      <td>1</td>\n      <td>3.0</td>\n      <td>1</td>\n      <td>NaN</td>\n      <td>43.0</td>\n      <td>NaN</td>\n      <td>Appartement</td>\n      <td>545000.0</td>\n    </tr>\n    <tr>\n      <th>9971</th>\n      <td>8446</td>\n      <td>RUE DE LA SABLIERE</td>\n      <td>26.0</td>\n      <td>NaN</td>\n      <td>NaN</td>\n      <td>NaN</td>\n      <td>NaN</td>\n      <td>75114</td>\n      <td>75</td>\n      <td>NaN</td>\n      <td>...</td>\n      <td>Vente</td>\n      <td>Paris 14e Arrondissement</td>\n      <td>2</td>\n      <td>1.0</td>\n      <td>1</td>\n      <td>NaN</td>\n      <td>18.0</td>\n      <td>NaN</td>\n      <td>Appartement</td>\n      <td>220000.0</td>\n    </tr>\n    <tr>\n      <th>9972</th>\n      <td>8105</td>\n      <td>AV REILLE</td>\n      <td>33.0</td>\n      <td>B</td>\n      <td>NaN</td>\n      <td>NaN</td>\n      <td>NaN</td>\n      <td>75114</td>\n      <td>75</td>\n      <td>NaN</td>\n      <td>...</td>\n      <td>Vente</td>\n      <td>Paris 14e Arrondissement</td>\n      <td>1</td>\n      <td>1.0</td>\n      <td>1</td>\n      <td>NaN</td>\n      <td>25.0</td>\n      <td>NaN</td>\n      <td>Appartement</td>\n      <td>132500.0</td>\n    </tr>\n    <tr>\n      <th>9973</th>\n      <td>5000</td>\n      <td>RUE JONQUOY</td>\n      <td>41.0</td>\n      <td>NaN</td>\n      <td>NaN</td>\n      <td>NaN</td>\n      <td>NaN</td>\n      <td>75114</td>\n      <td>75</td>\n      <td>NaN</td>\n      <td>...</td>\n      <td>Vente</td>\n      <td>Paris 14e Arrondissement</td>\n      <td>2</td>\n      <td>4.0</td>\n      <td>1</td>\n      <td>NaN</td>\n      <td>75.0</td>\n      <td>NaN</td>\n      <td>Appartement</td>\n      <td>590000.0</td>\n    </tr>\n    <tr>\n      <th>...</th>\n      <td>...</td>\n      <td>...</td>\n      <td>...</td>\n      <td>...</td>\n      <td>...</td>\n      <td>...</td>\n      <td>...</td>\n      <td>...</td>\n      <td>...</td>\n      <td>...</td>\n      <td>...</td>\n      <td>...</td>\n      <td>...</td>\n      <td>...</td>\n      <td>...</td>\n      <td>...</td>\n      <td>...</td>\n      <td>...</td>\n      <td>...</td>\n      <td>...</td>\n      <td>...</td>\n    </tr>\n    <tr>\n      <th>10872</th>\n      <td>3967</td>\n      <td>RUE GASSENDI</td>\n      <td>17.0</td>\n      <td>NaN</td>\n      <td>NaN</td>\n      <td>NaN</td>\n      <td>NaN</td>\n      <td>75114</td>\n      <td>75</td>\n      <td>NaN</td>\n      <td>...</td>\n      <td>Vente</td>\n      <td>Paris 14e Arrondissement</td>\n      <td>2</td>\n      <td>2.0</td>\n      <td>1</td>\n      <td>NaN</td>\n      <td>21.0</td>\n      <td>NaN</td>\n      <td>Appartement</td>\n      <td>335500.0</td>\n    </tr>\n    <tr>\n      <th>10873</th>\n      <td>3967</td>\n      <td>RUE GASSENDI</td>\n      <td>17.0</td>\n      <td>NaN</td>\n      <td>NaN</td>\n      <td>NaN</td>\n      <td>NaN</td>\n      <td>75114</td>\n      <td>75</td>\n      <td>NaN</td>\n      <td>...</td>\n      <td>Vente</td>\n      <td>Paris 14e Arrondissement</td>\n      <td>1</td>\n      <td>1.0</td>\n      <td>1</td>\n      <td>NaN</td>\n      <td>10.0</td>\n      <td>NaN</td>\n      <td>Appartement</td>\n      <td>335500.0</td>\n    </tr>\n    <tr>\n      <th>10874</th>\n      <td>2639</td>\n      <td>RUE DECRES</td>\n      <td>7.0</td>\n      <td>NaN</td>\n      <td>NaN</td>\n      <td>NaN</td>\n      <td>NaN</td>\n      <td>75114</td>\n      <td>75</td>\n      <td>NaN</td>\n      <td>...</td>\n      <td>Vente</td>\n      <td>Paris 14e Arrondissement</td>\n      <td>1</td>\n      <td>0.0</td>\n      <td>1</td>\n      <td>NaN</td>\n      <td>25.0</td>\n      <td>NaN</td>\n      <td>Local industriel. commercial ou assimilé</td>\n      <td>238925.0</td>\n    </tr>\n    <tr>\n      <th>10875</th>\n      <td>2639</td>\n      <td>RUE DECRES</td>\n      <td>7.0</td>\n      <td>NaN</td>\n      <td>NaN</td>\n      <td>NaN</td>\n      <td>NaN</td>\n      <td>75114</td>\n      <td>75</td>\n      <td>NaN</td>\n      <td>...</td>\n      <td>Vente</td>\n      <td>Paris 14e Arrondissement</td>\n      <td>1</td>\n      <td>0.0</td>\n      <td>1</td>\n      <td>NaN</td>\n      <td>12.0</td>\n      <td>NaN</td>\n      <td>Local industriel. commercial ou assimilé</td>\n      <td>238925.0</td>\n    </tr>\n    <tr>\n      <th>10876</th>\n      <td>0143</td>\n      <td>RUE D ALESIA</td>\n      <td>74.0</td>\n      <td>NaN</td>\n      <td>NaN</td>\n      <td>NaN</td>\n      <td>NaN</td>\n      <td>75114</td>\n      <td>75</td>\n      <td>NaN</td>\n      <td>...</td>\n      <td>Vente</td>\n      <td>Paris 14e Arrondissement</td>\n      <td>1</td>\n      <td>2.0</td>\n      <td>1</td>\n      <td>NaN</td>\n      <td>46.0</td>\n      <td>NaN</td>\n      <td>Appartement</td>\n      <td>575000.0</td>\n    </tr>\n  </tbody>\n</table>\n<p>908 rows × 40 columns</p>\n</div>"
     },
     "metadata": {},
     "execution_count": 2
    }
   ],
   "source": [
    "import pandas as pd\n",
    "pd.DataFrame.from_dict(json_data)"
   ]
  },
  {
   "source": [
    "## Test into dev/production"
   ],
   "cell_type": "markdown",
   "metadata": {}
  },
  {
   "cell_type": "code",
   "execution_count": 3,
   "metadata": {},
   "outputs": [],
   "source": [
    "zappa_url = \"https://26yrburrn0.execute-api.eu-west-3.amazonaws.com/dev\"\n",
    "code_commune = 75114\n",
    "import urllib\n",
    "import json    \n",
    "try:\n",
    "    url = zappa_url+\"/dvf?code_commune=\"+str(code_commune)\n",
    "    response = urllib.request.urlopen(url)\n",
    "    html = response.read()\n",
    "    json_data = json.loads(html)\n",
    "except urllib.error.URLError:\n",
    "        print(\"Erreur\")"
   ]
  },
  {
   "cell_type": "code",
   "execution_count": 4,
   "metadata": {},
   "outputs": [
    {
     "output_type": "execute_result",
     "data": {
      "text/plain": [
       "      adresse_code_voie    adresse_nom_voie  adresse_numero adresse_suffixe  \\\n",
       "9969               1158         RUE BOULARD            45.0             NaN   \n",
       "9970               6875        RUE D ODESSA             9.0             NaN   \n",
       "9971               8446  RUE DE LA SABLIERE            26.0             NaN   \n",
       "9972               8105           AV REILLE            33.0               B   \n",
       "9973               5000         RUE JONQUOY            41.0             NaN   \n",
       "...                 ...                 ...             ...             ...   \n",
       "10872              3967        RUE GASSENDI            17.0             NaN   \n",
       "10873              3967        RUE GASSENDI            17.0             NaN   \n",
       "10874              2639          RUE DECRES             7.0             NaN   \n",
       "10875              2639          RUE DECRES             7.0             NaN   \n",
       "10876              0143        RUE D ALESIA            74.0             NaN   \n",
       "\n",
       "       ancien_code_commune  ancien_id_parcelle  ancien_nom_commune  \\\n",
       "9969                   NaN                 NaN                 NaN   \n",
       "9970                   NaN                 NaN                 NaN   \n",
       "9971                   NaN                 NaN                 NaN   \n",
       "9972                   NaN                 NaN                 NaN   \n",
       "9973                   NaN                 NaN                 NaN   \n",
       "...                    ...                 ...                 ...   \n",
       "10872                  NaN                 NaN                 NaN   \n",
       "10873                  NaN                 NaN                 NaN   \n",
       "10874                  NaN                 NaN                 NaN   \n",
       "10875                  NaN                 NaN                 NaN   \n",
       "10876                  NaN                 NaN                 NaN   \n",
       "\n",
       "       code_commune  code_departement code_nature_culture  ...  \\\n",
       "9969          75114                75                 NaN  ...   \n",
       "9970          75114                75                 NaN  ...   \n",
       "9971          75114                75                 NaN  ...   \n",
       "9972          75114                75                 NaN  ...   \n",
       "9973          75114                75                 NaN  ...   \n",
       "...             ...               ...                 ...  ...   \n",
       "10872         75114                75                 NaN  ...   \n",
       "10873         75114                75                 NaN  ...   \n",
       "10874         75114                75                 NaN  ...   \n",
       "10875         75114                75                 NaN  ...   \n",
       "10876         75114                75                 NaN  ...   \n",
       "\n",
       "       nature_mutation               nom_commune  nombre_lots  \\\n",
       "9969             Vente  Paris 14e Arrondissement            1   \n",
       "9970             Vente  Paris 14e Arrondissement            1   \n",
       "9971             Vente  Paris 14e Arrondissement            2   \n",
       "9972             Vente  Paris 14e Arrondissement            1   \n",
       "9973             Vente  Paris 14e Arrondissement            2   \n",
       "...                ...                       ...          ...   \n",
       "10872            Vente  Paris 14e Arrondissement            2   \n",
       "10873            Vente  Paris 14e Arrondissement            1   \n",
       "10874            Vente  Paris 14e Arrondissement            1   \n",
       "10875            Vente  Paris 14e Arrondissement            1   \n",
       "10876            Vente  Paris 14e Arrondissement            1   \n",
       "\n",
       "      nombre_pieces_principales numero_disposition numero_volume  \\\n",
       "9969                        3.0                  1           NaN   \n",
       "9970                        3.0                  1           NaN   \n",
       "9971                        1.0                  1           NaN   \n",
       "9972                        1.0                  1           NaN   \n",
       "9973                        4.0                  1           NaN   \n",
       "...                         ...                ...           ...   \n",
       "10872                       2.0                  1           NaN   \n",
       "10873                       1.0                  1           NaN   \n",
       "10874                       0.0                  1           NaN   \n",
       "10875                       0.0                  1           NaN   \n",
       "10876                       2.0                  1           NaN   \n",
       "\n",
       "       surface_reelle_bati  surface_terrain  \\\n",
       "9969                  31.0              NaN   \n",
       "9970                  43.0              NaN   \n",
       "9971                  18.0              NaN   \n",
       "9972                  25.0              NaN   \n",
       "9973                  75.0              NaN   \n",
       "...                    ...              ...   \n",
       "10872                 21.0              NaN   \n",
       "10873                 10.0              NaN   \n",
       "10874                 25.0              NaN   \n",
       "10875                 12.0              NaN   \n",
       "10876                 46.0              NaN   \n",
       "\n",
       "                                     type_local  valeur_fonciere  \n",
       "9969                                Appartement          95000.0  \n",
       "9970                                Appartement         545000.0  \n",
       "9971                                Appartement         220000.0  \n",
       "9972                                Appartement         132500.0  \n",
       "9973                                Appartement         590000.0  \n",
       "...                                         ...              ...  \n",
       "10872                               Appartement         335500.0  \n",
       "10873                               Appartement         335500.0  \n",
       "10874  Local industriel. commercial ou assimilé         238925.0  \n",
       "10875  Local industriel. commercial ou assimilé         238925.0  \n",
       "10876                               Appartement         575000.0  \n",
       "\n",
       "[908 rows x 40 columns]"
      ],
      "text/html": "<div>\n<style scoped>\n    .dataframe tbody tr th:only-of-type {\n        vertical-align: middle;\n    }\n\n    .dataframe tbody tr th {\n        vertical-align: top;\n    }\n\n    .dataframe thead th {\n        text-align: right;\n    }\n</style>\n<table border=\"1\" class=\"dataframe\">\n  <thead>\n    <tr style=\"text-align: right;\">\n      <th></th>\n      <th>adresse_code_voie</th>\n      <th>adresse_nom_voie</th>\n      <th>adresse_numero</th>\n      <th>adresse_suffixe</th>\n      <th>ancien_code_commune</th>\n      <th>ancien_id_parcelle</th>\n      <th>ancien_nom_commune</th>\n      <th>code_commune</th>\n      <th>code_departement</th>\n      <th>code_nature_culture</th>\n      <th>...</th>\n      <th>nature_mutation</th>\n      <th>nom_commune</th>\n      <th>nombre_lots</th>\n      <th>nombre_pieces_principales</th>\n      <th>numero_disposition</th>\n      <th>numero_volume</th>\n      <th>surface_reelle_bati</th>\n      <th>surface_terrain</th>\n      <th>type_local</th>\n      <th>valeur_fonciere</th>\n    </tr>\n  </thead>\n  <tbody>\n    <tr>\n      <th>9969</th>\n      <td>1158</td>\n      <td>RUE BOULARD</td>\n      <td>45.0</td>\n      <td>NaN</td>\n      <td>NaN</td>\n      <td>NaN</td>\n      <td>NaN</td>\n      <td>75114</td>\n      <td>75</td>\n      <td>NaN</td>\n      <td>...</td>\n      <td>Vente</td>\n      <td>Paris 14e Arrondissement</td>\n      <td>1</td>\n      <td>3.0</td>\n      <td>1</td>\n      <td>NaN</td>\n      <td>31.0</td>\n      <td>NaN</td>\n      <td>Appartement</td>\n      <td>95000.0</td>\n    </tr>\n    <tr>\n      <th>9970</th>\n      <td>6875</td>\n      <td>RUE D ODESSA</td>\n      <td>9.0</td>\n      <td>NaN</td>\n      <td>NaN</td>\n      <td>NaN</td>\n      <td>NaN</td>\n      <td>75114</td>\n      <td>75</td>\n      <td>NaN</td>\n      <td>...</td>\n      <td>Vente</td>\n      <td>Paris 14e Arrondissement</td>\n      <td>1</td>\n      <td>3.0</td>\n      <td>1</td>\n      <td>NaN</td>\n      <td>43.0</td>\n      <td>NaN</td>\n      <td>Appartement</td>\n      <td>545000.0</td>\n    </tr>\n    <tr>\n      <th>9971</th>\n      <td>8446</td>\n      <td>RUE DE LA SABLIERE</td>\n      <td>26.0</td>\n      <td>NaN</td>\n      <td>NaN</td>\n      <td>NaN</td>\n      <td>NaN</td>\n      <td>75114</td>\n      <td>75</td>\n      <td>NaN</td>\n      <td>...</td>\n      <td>Vente</td>\n      <td>Paris 14e Arrondissement</td>\n      <td>2</td>\n      <td>1.0</td>\n      <td>1</td>\n      <td>NaN</td>\n      <td>18.0</td>\n      <td>NaN</td>\n      <td>Appartement</td>\n      <td>220000.0</td>\n    </tr>\n    <tr>\n      <th>9972</th>\n      <td>8105</td>\n      <td>AV REILLE</td>\n      <td>33.0</td>\n      <td>B</td>\n      <td>NaN</td>\n      <td>NaN</td>\n      <td>NaN</td>\n      <td>75114</td>\n      <td>75</td>\n      <td>NaN</td>\n      <td>...</td>\n      <td>Vente</td>\n      <td>Paris 14e Arrondissement</td>\n      <td>1</td>\n      <td>1.0</td>\n      <td>1</td>\n      <td>NaN</td>\n      <td>25.0</td>\n      <td>NaN</td>\n      <td>Appartement</td>\n      <td>132500.0</td>\n    </tr>\n    <tr>\n      <th>9973</th>\n      <td>5000</td>\n      <td>RUE JONQUOY</td>\n      <td>41.0</td>\n      <td>NaN</td>\n      <td>NaN</td>\n      <td>NaN</td>\n      <td>NaN</td>\n      <td>75114</td>\n      <td>75</td>\n      <td>NaN</td>\n      <td>...</td>\n      <td>Vente</td>\n      <td>Paris 14e Arrondissement</td>\n      <td>2</td>\n      <td>4.0</td>\n      <td>1</td>\n      <td>NaN</td>\n      <td>75.0</td>\n      <td>NaN</td>\n      <td>Appartement</td>\n      <td>590000.0</td>\n    </tr>\n    <tr>\n      <th>...</th>\n      <td>...</td>\n      <td>...</td>\n      <td>...</td>\n      <td>...</td>\n      <td>...</td>\n      <td>...</td>\n      <td>...</td>\n      <td>...</td>\n      <td>...</td>\n      <td>...</td>\n      <td>...</td>\n      <td>...</td>\n      <td>...</td>\n      <td>...</td>\n      <td>...</td>\n      <td>...</td>\n      <td>...</td>\n      <td>...</td>\n      <td>...</td>\n      <td>...</td>\n      <td>...</td>\n    </tr>\n    <tr>\n      <th>10872</th>\n      <td>3967</td>\n      <td>RUE GASSENDI</td>\n      <td>17.0</td>\n      <td>NaN</td>\n      <td>NaN</td>\n      <td>NaN</td>\n      <td>NaN</td>\n      <td>75114</td>\n      <td>75</td>\n      <td>NaN</td>\n      <td>...</td>\n      <td>Vente</td>\n      <td>Paris 14e Arrondissement</td>\n      <td>2</td>\n      <td>2.0</td>\n      <td>1</td>\n      <td>NaN</td>\n      <td>21.0</td>\n      <td>NaN</td>\n      <td>Appartement</td>\n      <td>335500.0</td>\n    </tr>\n    <tr>\n      <th>10873</th>\n      <td>3967</td>\n      <td>RUE GASSENDI</td>\n      <td>17.0</td>\n      <td>NaN</td>\n      <td>NaN</td>\n      <td>NaN</td>\n      <td>NaN</td>\n      <td>75114</td>\n      <td>75</td>\n      <td>NaN</td>\n      <td>...</td>\n      <td>Vente</td>\n      <td>Paris 14e Arrondissement</td>\n      <td>1</td>\n      <td>1.0</td>\n      <td>1</td>\n      <td>NaN</td>\n      <td>10.0</td>\n      <td>NaN</td>\n      <td>Appartement</td>\n      <td>335500.0</td>\n    </tr>\n    <tr>\n      <th>10874</th>\n      <td>2639</td>\n      <td>RUE DECRES</td>\n      <td>7.0</td>\n      <td>NaN</td>\n      <td>NaN</td>\n      <td>NaN</td>\n      <td>NaN</td>\n      <td>75114</td>\n      <td>75</td>\n      <td>NaN</td>\n      <td>...</td>\n      <td>Vente</td>\n      <td>Paris 14e Arrondissement</td>\n      <td>1</td>\n      <td>0.0</td>\n      <td>1</td>\n      <td>NaN</td>\n      <td>25.0</td>\n      <td>NaN</td>\n      <td>Local industriel. commercial ou assimilé</td>\n      <td>238925.0</td>\n    </tr>\n    <tr>\n      <th>10875</th>\n      <td>2639</td>\n      <td>RUE DECRES</td>\n      <td>7.0</td>\n      <td>NaN</td>\n      <td>NaN</td>\n      <td>NaN</td>\n      <td>NaN</td>\n      <td>75114</td>\n      <td>75</td>\n      <td>NaN</td>\n      <td>...</td>\n      <td>Vente</td>\n      <td>Paris 14e Arrondissement</td>\n      <td>1</td>\n      <td>0.0</td>\n      <td>1</td>\n      <td>NaN</td>\n      <td>12.0</td>\n      <td>NaN</td>\n      <td>Local industriel. commercial ou assimilé</td>\n      <td>238925.0</td>\n    </tr>\n    <tr>\n      <th>10876</th>\n      <td>0143</td>\n      <td>RUE D ALESIA</td>\n      <td>74.0</td>\n      <td>NaN</td>\n      <td>NaN</td>\n      <td>NaN</td>\n      <td>NaN</td>\n      <td>75114</td>\n      <td>75</td>\n      <td>NaN</td>\n      <td>...</td>\n      <td>Vente</td>\n      <td>Paris 14e Arrondissement</td>\n      <td>1</td>\n      <td>2.0</td>\n      <td>1</td>\n      <td>NaN</td>\n      <td>46.0</td>\n      <td>NaN</td>\n      <td>Appartement</td>\n      <td>575000.0</td>\n    </tr>\n  </tbody>\n</table>\n<p>908 rows × 40 columns</p>\n</div>"
     },
     "metadata": {},
     "execution_count": 4
    }
   ],
   "source": [
    "import pandas as pd\n",
    "pd.DataFrame.from_dict(json_data)"
   ]
  }
 ]
}